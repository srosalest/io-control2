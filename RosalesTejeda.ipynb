{
  "nbformat": 4,
  "nbformat_minor": 0,
  "metadata": {
    "colab": {
      "name": "RosalesTejeda.ipynb",
      "provenance": [],
      "collapsed_sections": []
    },
    "kernelspec": {
      "name": "ir",
      "display_name": "R"
    }
  },
  "cells": [
    {
      "cell_type": "markdown",
      "metadata": {
        "id": "g84vZOOMslI0",
        "colab_type": "text"
      },
      "source": [
        "Control regresion lineal<br>\n",
        "Sebastian Rosales <br>\n",
        "201473604-5<br>\n",
        "sebastian.rosales.14@sansano.usm.cl<br>"
      ]
    },
    {
      "cell_type": "code",
      "metadata": {
        "id": "JCFysw-o76nZ",
        "colab_type": "code",
        "colab": {}
      },
      "source": [
        "#cargamos las librerias\n",
        "install.packages('lmtest') #Librería Durbin Watson\n",
        "install.packages('fBasics') #Librería Kolmogorov-Smirnov\n",
        "\n",
        "library(lmtest)\n",
        "library(fBasics)"
      ],
      "execution_count": null,
      "outputs": []
    },
    {
      "cell_type": "markdown",
      "metadata": {
        "id": "yzWuEy_huuST",
        "colab_type": "text"
      },
      "source": [
        "1) <br>\n",
        "a) Dado el enunciado, necesitamos predecir cómo se comportará nuestra variable dependiente, en este caso el Dinero, respecto a la variable independiente, la Edad.\n"
      ]
    },
    {
      "cell_type": "code",
      "metadata": {
        "id": "FwwRVdyUWKJB",
        "colab_type": "code",
        "colab": {
          "base_uri": "https://localhost:8080/",
          "height": 238
        },
        "outputId": "ae8e07d1-4e14-4934-eb01-623ed51e428e"
      },
      "source": [
        "#cargamos la data\n",
        "data = read.csv(\"DataFormaD.csv\")\n",
        "#visualizamos la informacion\n",
        "head(data)\n",
        "#vemos cuantas columnas trae el dataset\n",
        "nrow(data)"
      ],
      "execution_count": 7,
      "outputs": [
        {
          "output_type": "display_data",
          "data": {
            "text/plain": [
              "  Edad Dinero\n",
              "1 32    98554\n",
              "2 36   114118\n",
              "3 26    87184\n",
              "4 24    77722\n",
              "5 32   102729\n",
              "6 28    85420"
            ],
            "text/latex": "A data.frame: 6 × 2\n\\begin{tabular}{r|ll}\n  & Edad & Dinero\\\\\n  & <int> & <int>\\\\\n\\hline\n\t1 & 32 &  98554\\\\\n\t2 & 36 & 114118\\\\\n\t3 & 26 &  87184\\\\\n\t4 & 24 &  77722\\\\\n\t5 & 32 & 102729\\\\\n\t6 & 28 &  85420\\\\\n\\end{tabular}\n",
            "text/markdown": "\nA data.frame: 6 × 2\n\n| <!--/--> | Edad &lt;int&gt; | Dinero &lt;int&gt; |\n|---|---|---|\n| 1 | 32 |  98554 |\n| 2 | 36 | 114118 |\n| 3 | 26 |  87184 |\n| 4 | 24 |  77722 |\n| 5 | 32 | 102729 |\n| 6 | 28 |  85420 |\n\n",
            "text/html": [
              "<table>\n",
              "<caption>A data.frame: 6 × 2</caption>\n",
              "<thead>\n",
              "\t<tr><th></th><th scope=col>Edad</th><th scope=col>Dinero</th></tr>\n",
              "\t<tr><th></th><th scope=col>&lt;int&gt;</th><th scope=col>&lt;int&gt;</th></tr>\n",
              "</thead>\n",
              "<tbody>\n",
              "\t<tr><th scope=row>1</th><td>32</td><td> 98554</td></tr>\n",
              "\t<tr><th scope=row>2</th><td>36</td><td>114118</td></tr>\n",
              "\t<tr><th scope=row>3</th><td>26</td><td> 87184</td></tr>\n",
              "\t<tr><th scope=row>4</th><td>24</td><td> 77722</td></tr>\n",
              "\t<tr><th scope=row>5</th><td>32</td><td>102729</td></tr>\n",
              "\t<tr><th scope=row>6</th><td>28</td><td> 85420</td></tr>\n",
              "</tbody>\n",
              "</table>\n"
            ]
          },
          "metadata": {
            "tags": []
          }
        },
        {
          "output_type": "display_data",
          "data": {
            "text/plain": [
              "[1] 200"
            ],
            "text/latex": "200",
            "text/markdown": "200",
            "text/html": [
              "200"
            ]
          },
          "metadata": {
            "tags": []
          }
        }
      ]
    },
    {
      "cell_type": "code",
      "metadata": {
        "id": "g_E97waRtq-D",
        "colab_type": "code",
        "colab": {
          "base_uri": "https://localhost:8080/",
          "height": 136
        },
        "outputId": "4e1d0d79-3ebe-4399-aec5-cc182bd61d03"
      },
      "source": [
        "#construimos la regresion lineal\n",
        "model <- lm(Dinero ~ Edad,data=data)\n",
        "model"
      ],
      "execution_count": 8,
      "outputs": [
        {
          "output_type": "display_data",
          "data": {
            "text/plain": [
              "\n",
              "Call:\n",
              "lm(formula = Dinero ~ Edad, data = data)\n",
              "\n",
              "Coefficients:\n",
              "(Intercept)         Edad  \n",
              "     -743.6       3236.8  \n"
            ]
          },
          "metadata": {
            "tags": []
          }
        }
      ]
    },
    {
      "cell_type": "markdown",
      "metadata": {
        "id": "iIGgfk36wA-B",
        "colab_type": "text"
      },
      "source": [
        "Del modelo lineal construido, los coeficientes que se obtienen son: <br>\n",
        "$\\hat{\\beta_1}$ es $3236.8$ <br>\n",
        "$\\hat{\\beta_0}$ es $-743.6$ <br>\n",
        "\n",
        "El modelo sería de la siguiente forma:<br>\n",
        "$$ \\hat{Y} = 3236.8 \\cdot X - 743.6$$\n",
        "\n"
      ]
    },
    {
      "cell_type": "markdown",
      "metadata": {
        "id": "ex3paL1Gw_ez",
        "colab_type": "text"
      },
      "source": [
        "2)<br>\n",
        "b) **Falsa (F)** El test utilizado para verificar que los errores (residuos) siguen una distribución Normal es el de Kolmogorov-Smirnov"
      ]
    },
    {
      "cell_type": "markdown",
      "metadata": {
        "id": "7equsPrsy0aa",
        "colab_type": "text"
      },
      "source": [
        "c) **Falsa (F)** No es posible atribuir a una persona de 53 años una cantidad de dinero a gastar, dado que este valor escapa del dominio utilizado para construir la regresión lineal. <br>\n",
        "\n",
        "Como se muestra a continuación la edad varía desde 18 a 45. "
      ]
    },
    {
      "cell_type": "code",
      "metadata": {
        "id": "Mmp57SXdyyjl",
        "colab_type": "code",
        "colab": {
          "base_uri": "https://localhost:8080/",
          "height": 136
        },
        "outputId": "96e8d7c4-23b1-498f-a54e-a1c4fa48b348"
      },
      "source": [
        "summary(data)\n"
      ],
      "execution_count": 12,
      "outputs": [
        {
          "output_type": "display_data",
          "data": {
            "text/plain": [
              "      Edad           Dinero      \n",
              " Min.   :18.00   Min.   : 55555  \n",
              " 1st Qu.:26.00   1st Qu.: 82688  \n",
              " Median :32.00   Median :103246  \n",
              " Mean   :31.93   Mean   :102591  \n",
              " 3rd Qu.:38.00   3rd Qu.:122476  \n",
              " Max.   :45.00   Max.   :148030  "
            ]
          },
          "metadata": {
            "tags": []
          }
        }
      ]
    },
    {
      "cell_type": "markdown",
      "metadata": {
        "id": "r0kBeApdz8uR",
        "colab_type": "text"
      },
      "source": [
        "d) **Falsa (F)** Al aplicar el Test de ANOVA con $\\alpha = 0.05$, se concluye que no existe una relación lineal en el modelo considerando que el estadístico tiene por valor $f=14525$ <br>\n",
        "\n",
        "**Rechazamos. No hay evidencia suficiente para suponer que el modelo no es lineal.**\n",
        "\n",
        "Ademas $F_{(1 - \\alpha, 1, n-2)} = 3.888$\n",
        "Observacion: Se utilizo la tabla F de Fisher con el valor en grados de libertad  $n-2 = 198$, calculada online https://www.danielsoper.com/statcalc/calculator.aspx?id=4\n"
      ]
    },
    {
      "cell_type": "code",
      "metadata": {
        "id": "-s5RniBVy1GC",
        "colab_type": "code",
        "colab": {
          "base_uri": "https://localhost:8080/",
          "height": 102
        },
        "outputId": "dcc32b46-b29a-4322-9c80-36455478a952"
      },
      "source": [
        "fm = aov(model)\n",
        "summary(fm)"
      ],
      "execution_count": 13,
      "outputs": [
        {
          "output_type": "display_data",
          "data": {
            "text/plain": [
              "             Df    Sum Sq   Mean Sq F value Pr(>F)    \n",
              "Edad          1 1.212e+11 1.212e+11   14525 <2e-16 ***\n",
              "Residuals   198 1.652e+09 8.341e+06                   \n",
              "---\n",
              "Signif. codes:  0 ‘***’ 0.001 ‘**’ 0.01 ‘*’ 0.05 ‘.’ 0.1 ‘ ’ 1"
            ]
          },
          "metadata": {
            "tags": []
          }
        }
      ]
    },
    {
      "cell_type": "markdown",
      "metadata": {
        "id": "zeb8wSvp4ijS",
        "colab_type": "text"
      },
      "source": [
        "e) **Verdadera (V)** Considerando el modelo lineal, el intervalo de confianza para la pendiente tiene por limites $3183.8$ y $3289.7$\n",
        "\n",
        "Se observa el cálculo de los intervalos de confianza para la pendiente a continuación con $\\alpha = 0.05$:"
      ]
    },
    {
      "cell_type": "code",
      "metadata": {
        "id": "-UinTBTCz5kz",
        "colab_type": "code",
        "colab": {
          "base_uri": "https://localhost:8080/",
          "height": 99
        },
        "outputId": "e51c34ed-9c84-4f58-f18e-ca0660e7d07f"
      },
      "source": [
        "confint(model)"
      ],
      "execution_count": 14,
      "outputs": [
        {
          "output_type": "display_data",
          "data": {
            "text/plain": [
              "            2.5 %     97.5 %   \n",
              "(Intercept) -2481.720  994.5708\n",
              "Edad         3183.822 3289.7485"
            ],
            "text/latex": "A matrix: 2 × 2 of type dbl\n\\begin{tabular}{r|ll}\n  & 2.5 \\% & 97.5 \\%\\\\\n\\hline\n\t(Intercept) & -2481.720 &  994.5708\\\\\n\tEdad &  3183.822 & 3289.7485\\\\\n\\end{tabular}\n",
            "text/markdown": "\nA matrix: 2 × 2 of type dbl\n\n| <!--/--> | 2.5 % | 97.5 % |\n|---|---|---|\n| (Intercept) | -2481.720 |  994.5708 |\n| Edad |  3183.822 | 3289.7485 |\n\n",
            "text/html": [
              "<table>\n",
              "<caption>A matrix: 2 × 2 of type dbl</caption>\n",
              "<thead>\n",
              "\t<tr><th></th><th scope=col>2.5 %</th><th scope=col>97.5 %</th></tr>\n",
              "</thead>\n",
              "<tbody>\n",
              "\t<tr><th scope=row>(Intercept)</th><td>-2481.720</td><td> 994.5708</td></tr>\n",
              "\t<tr><th scope=row>Edad</th><td> 3183.822</td><td>3289.7485</td></tr>\n",
              "</tbody>\n",
              "</table>\n"
            ]
          },
          "metadata": {
            "tags": []
          }
        }
      ]
    },
    {
      "cell_type": "markdown",
      "metadata": {
        "id": "0lRBy6925ZiF",
        "colab_type": "text"
      },
      "source": [
        "f) **Falsa (F)** No es posible determinar que siguen el comportamiento esperado para un modelo de regresión lineal ya que es necesario aplicarles una transformación ( y concluir a partir de lo obtenido al aplicarla) "
      ]
    },
    {
      "cell_type": "markdown",
      "metadata": {
        "id": "5jfItwJl54eG",
        "colab_type": "text"
      },
      "source": [
        "g) **Falsa (F)**. Considerando que el estadístico tiene por valor $D = 0.515$ , y utilizando el test de Kolmogorov-Smirnov con $\\alpha = 0.05$. Buscando en la tabla tenemos que $D^{0.05}_{200}$ es $0.096$. Nuestro estadístico $D$ es mayor que $D^{0.05}_{200}$.<br> \n",
        "\n",
        "**No hay evidencia suficiente para suponer que los residuos siguen una distribución Normal** "
      ]
    },
    {
      "cell_type": "code",
      "metadata": {
        "id": "wUJ7Kj2g7xzV",
        "colab_type": "code",
        "colab": {
          "base_uri": "https://localhost:8080/",
          "height": 255
        },
        "outputId": "d859a245-b2e4-49db-a3a1-79d962355494"
      },
      "source": [
        "ksnormTest(fm$residuals) # los residuos se obtienen desde el test de ANOVA"
      ],
      "execution_count": 18,
      "outputs": [
        {
          "output_type": "display_data",
          "data": {
            "text/plain": [
              "\n",
              "Title:\n",
              " One-sample Kolmogorov-Smirnov test\n",
              "\n",
              "Test Results:\n",
              "  STATISTIC:\n",
              "    D: 0.515\n",
              "  P VALUE:\n",
              "    Alternative Two-Sided: < 2.2e-16 \n",
              "    Alternative      Less: < 2.2e-16 \n",
              "    Alternative   Greater: < 2.2e-16 \n",
              "\n",
              "Description:\n",
              " Mon Aug 10 15:17:25 2020 by user: \n"
            ]
          },
          "metadata": {
            "tags": []
          }
        }
      ]
    },
    {
      "cell_type": "markdown",
      "metadata": {
        "id": "C38n9LxP58NF",
        "colab_type": "text"
      },
      "source": [
        "h) **Falsa (F)** Considerando que el estadístico tiene por valor $D = 1.9157$ y utilizando el test de Durbin-Watson con $\\alpha = 0.05$, tenemos $dL = 1.758$ y $dU = 1.779$<br> \n",
        "\n",
        "Como $D = 1.9157 > d_U = 1.779$, **con un nivel de certeza del 95% los errores no están correlacionados.**"
      ]
    },
    {
      "cell_type": "code",
      "metadata": {
        "id": "9ew-yi3H_UeE",
        "colab_type": "code",
        "colab": {
          "base_uri": "https://localhost:8080/",
          "height": 119
        },
        "outputId": "8b81c470-1ec1-4d23-9764-5635f994179d"
      },
      "source": [
        "dwtest(model)"
      ],
      "execution_count": 20,
      "outputs": [
        {
          "output_type": "display_data",
          "data": {
            "text/plain": [
              "\n",
              "\tDurbin-Watson test\n",
              "\n",
              "data:  model\n",
              "DW = 1.9157, p-value = 0.2738\n",
              "alternative hypothesis: true autocorrelation is greater than 0\n"
            ]
          },
          "metadata": {
            "tags": []
          }
        }
      ]
    }
  ]
}