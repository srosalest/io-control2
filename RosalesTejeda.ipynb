{
  "nbformat": 4,
  "nbformat_minor": 0,
  "metadata": {
    "colab": {
      "name": "RosalesTejeda",
      "provenance": [],
      "collapsed_sections": []
    },
    "kernelspec": {
      "name": "ir",
      "display_name": "R"
    }
  },
  "cells": [
    {
      "cell_type": "markdown",
      "metadata": {
        "id": "kDS_UWhepHrU",
        "colab_type": "text"
      },
      "source": [
        "Control de arboles de clasificacion: <br>\n",
        "Sebastian Rosales Tejeda <br>\n",
        "21473604-5 <br>\n",
        "sebastian.rosales.14@sansano.usm.cl <br>"
      ]
    },
    {
      "cell_type": "markdown",
      "metadata": {
        "id": "rDpZluzVm79R",
        "colab_type": "text"
      },
      "source": [
        "El escrito está desarrollado en Google Colab.\n",
        "\n"
      ]
    },
    {
      "cell_type": "markdown",
      "metadata": {
        "id": "vb8BLPo0Ku-I",
        "colab_type": "text"
      },
      "source": [
        "Importamos librerías a utilizar"
      ]
    },
    {
      "cell_type": "code",
      "metadata": {
        "id": "-5dmNKWIF3B2",
        "colab_type": "code",
        "colab": {
          "base_uri": "https://localhost:8080/",
          "height": 119
        },
        "outputId": "1b57d81d-5dfa-4e77-b35c-49bc1f87e40c"
      },
      "source": [
        "install.packages(\"tree\")\n",
        "install.packages(\"ggplot2\")\n",
        "library(tree)\n",
        "library(ggplot2)"
      ],
      "execution_count": 1,
      "outputs": [
        {
          "output_type": "stream",
          "text": [
            "Installing package into ‘/usr/local/lib/R/site-library’\n",
            "(as ‘lib’ is unspecified)\n",
            "\n",
            "Installing package into ‘/usr/local/lib/R/site-library’\n",
            "(as ‘lib’ is unspecified)\n",
            "\n"
          ],
          "name": "stderr"
        }
      ]
    },
    {
      "cell_type": "code",
      "metadata": {
        "id": "rQoAXFsMF7Dw",
        "colab_type": "code",
        "colab": {}
      },
      "source": [
        "#load dataframe\n",
        "data <- read.table(\"/content/DatosControl.csv\", header = TRUE, sep = ',')"
      ],
      "execution_count": 2,
      "outputs": []
    },
    {
      "cell_type": "code",
      "metadata": {
        "id": "ouEkyCOUGAj3",
        "colab_type": "code",
        "colab": {
          "base_uri": "https://localhost:8080/",
          "height": 34
        },
        "outputId": "1179f72d-dd3f-466c-d82f-caff5f7c8398"
      },
      "source": [
        "#columns names = [Nembarazada,Glucosa,Presion,Triceps,Insulina,IMC,Pedigree,Edad,Diabetes]\n",
        "#cuanta data tenemos\n",
        "dim(data)"
      ],
      "execution_count": 3,
      "outputs": [
        {
          "output_type": "display_data",
          "data": {
            "text/plain": [
              "[1] 768   9"
            ],
            "text/latex": "\\begin{enumerate*}\n\\item 768\n\\item 9\n\\end{enumerate*}\n",
            "text/markdown": "1. 768\n2. 9\n\n\n",
            "text/html": [
              "<style>\n",
              ".list-inline {list-style: none; margin:0; padding: 0}\n",
              ".list-inline>li {display: inline-block}\n",
              ".list-inline>li:not(:last-child)::after {content: \"\\00b7\"; padding: 0 .5ex}\n",
              "</style>\n",
              "<ol class=list-inline><li>768</li><li>9</li></ol>\n"
            ]
          },
          "metadata": {
            "tags": []
          }
        }
      ]
    },
    {
      "cell_type": "code",
      "metadata": {
        "id": "jIENKvcHOAzc",
        "colab_type": "code",
        "colab": {
          "base_uri": "https://localhost:8080/",
          "height": 68
        },
        "outputId": "75e112dc-c413-409e-9ea8-a09698628ba8"
      },
      "source": [
        "#cantidad de Embarazadas con Diabetes\n",
        "xtabs(~Diabetes, data = data)"
      ],
      "execution_count": 4,
      "outputs": [
        {
          "output_type": "display_data",
          "data": {
            "text/plain": [
              "Diabetes\n",
              "  0   1 \n",
              "500 268 "
            ]
          },
          "metadata": {
            "tags": []
          }
        }
      ]
    },
    {
      "cell_type": "markdown",
      "metadata": {
        "id": "RMatOhc0qs7Y",
        "colab_type": "text"
      },
      "source": [
        "Data exploration:"
      ]
    },
    {
      "cell_type": "code",
      "metadata": {
        "id": "a1wfvCnpOQrE",
        "colab_type": "code",
        "colab": {
          "base_uri": "https://localhost:8080/",
          "height": 437
        },
        "outputId": "3ede32c4-a455-49fe-e9a5-f7e8da8ea749"
      },
      "source": [
        "diabetes_count <- table(data$Diabetes)\n",
        "#grafico barra\n",
        "barplot(diabetes_count, main = \"Cantidad de Embarazadas con Diabetes\", xlab = 'Diabetes')"
      ],
      "execution_count": 5,
      "outputs": [
        {
          "output_type": "display_data",
          "data": {
            "image/png": "[encoded data removed]",
            "text/plain": [
              "Plot with title “Cantidad de Embarazadas con Diabetes”"
            ]
          },
          "metadata": {
            "tags": [],
            "image/png": {
              "width": 420,
              "height": 420
            },
            "text/plain": {
              "width": 420,
              "height": 420
            }
          }
        }
      ]
    },
    {
      "cell_type": "code",
      "metadata": {
        "id": "zkqnTXpEOhiV",
        "colab_type": "code",
        "colab": {
          "base_uri": "https://localhost:8080/",
          "height": 857
        },
        "outputId": "e05a6284-77fa-4273-8496-31bfea5e3864"
      },
      "source": [
        "type1_count <- table(data$Edad)\n",
        "barplot(type1_count, main='Edad de las Embarazadas',xlab='Edad',las=2)\n",
        "\n",
        "type2_count <- table(data$Nembarazada)\n",
        "barplot(type2_count, main='Numero de Embarazos previos',xlab='Numero Embarazos',las=2)\n"
      ],
      "execution_count": 6,
      "outputs": [
        {
          "output_type": "display_data",
          "data": {
            "image/png": "[encoded data removed]",
            "text/plain": [
              "Plot with title “Edad de las Embarazadas”"
            ]
          },
          "metadata": {
            "tags": [],
            "image/png": {
              "width": 420,
              "height": 420
            },
            "text/plain": {
              "width": 420,
              "height": 420
            }
          }
        },
        {
          "output_type": "display_data",
          "data": {
            "image/png": "[encoded data removed]",
            "text/plain": [
              "Plot with title “Numero de Embarazos previos”"
            ]
          },
          "metadata": {
            "tags": [],
            "image/png": {
              "width": 420,
              "height": 420
            },
            "text/plain": {
              "width": 420,
              "height": 420
            }
          }
        }
      ]
    },
    {
      "cell_type": "markdown",
      "metadata": {
        "id": "8kt1rPvg_O2x",
        "colab_type": "text"
      },
      "source": [
        "Es posible apreciar que la única variable categórica es Diabetes (Nuestra variable objetivo), por cosa de espacio omitiré los gráficos restantes. \n",
        "\n",
        "Cabe destacar como observación importante que, la cardinalidad de la clase de predicción no es la misma, lo cual puede traer errores de predicción importantes al clasificar a futuro, en conjunto con la poca cantidad de ejemplos de entrenamiento de nuestros modelos. "
      ]
    },
    {
      "cell_type": "markdown",
      "metadata": {
        "id": "p_E_KT2PyrBi",
        "colab_type": "text"
      },
      "source": [
        "# Pregunta 1:"
      ]
    },
    {
      "cell_type": "markdown",
      "metadata": {
        "id": "oC3VxwpVtceD",
        "colab_type": "text"
      },
      "source": [
        "Realizamos factor para posteriormente hacer el train-test split (70-30)\n",
        "\n"
      ]
    },
    {
      "cell_type": "code",
      "metadata": {
        "id": "awTVfJ4APokt",
        "colab_type": "code",
        "colab": {}
      },
      "source": [
        "#La unica variable categorica es Diabetes\n",
        "data$Diabetes <- factor(data$Diabetes)"
      ],
      "execution_count": 35,
      "outputs": []
    },
    {
      "cell_type": "code",
      "metadata": {
        "id": "jgRkHbMuQnqj",
        "colab_type": "code",
        "colab": {}
      },
      "source": [
        "#train-test split\n",
        "#Seteamos una semilla para replicar resultados\n",
        "set.seed(42)\n",
        "\n",
        "#En este caso utilizaremos un conjunto de entrenamiento con el 70% de los datos\n",
        "train_size <- floor(0.70 * nrow(data)) #El tamaño será el 70% de la cantidad de filas\n",
        "train_mask <- sample(seq_len(nrow(data)),size= train_size) #Mascara aleatoria\n",
        "\n",
        "#Separamos los conjuntos\n",
        "train <- data[train_mask, ]\n",
        "test <- data[-train_mask, ]"
      ],
      "execution_count": 36,
      "outputs": []
    },
    {
      "cell_type": "code",
      "metadata": {
        "id": "dS3i4zP1RJ4w",
        "colab_type": "code",
        "colab": {
          "base_uri": "https://localhost:8080/",
          "height": 51
        },
        "outputId": "d186faf8-c68f-44f7-9a89-bd6780948490"
      },
      "source": [
        "#chequeamos la dimensionalidad\n",
        "dim(train)\n",
        "dim(test)"
      ],
      "execution_count": 37,
      "outputs": [
        {
          "output_type": "display_data",
          "data": {
            "text/plain": [
              "[1] 537   9"
            ],
            "text/latex": "\\begin{enumerate*}\n\\item 537\n\\item 9\n\\end{enumerate*}\n",
            "text/markdown": "1. 537\n2. 9\n\n\n",
            "text/html": [
              "<style>\n",
              ".list-inline {list-style: none; margin:0; padding: 0}\n",
              ".list-inline>li {display: inline-block}\n",
              ".list-inline>li:not(:last-child)::after {content: \"\\00b7\"; padding: 0 .5ex}\n",
              "</style>\n",
              "<ol class=list-inline><li>537</li><li>9</li></ol>\n"
            ]
          },
          "metadata": {
            "tags": []
          }
        },
        {
          "output_type": "display_data",
          "data": {
            "text/plain": [
              "[1] 231   9"
            ],
            "text/latex": "\\begin{enumerate*}\n\\item 231\n\\item 9\n\\end{enumerate*}\n",
            "text/markdown": "1. 231\n2. 9\n\n\n",
            "text/html": [
              "<style>\n",
              ".list-inline {list-style: none; margin:0; padding: 0}\n",
              ".list-inline>li {display: inline-block}\n",
              ".list-inline>li:not(:last-child)::after {content: \"\\00b7\"; padding: 0 .5ex}\n",
              "</style>\n",
              "<ol class=list-inline><li>231</li><li>9</li></ol>\n"
            ]
          },
          "metadata": {
            "tags": []
          }
        }
      ]
    },
    {
      "cell_type": "code",
      "metadata": {
        "id": "n3JbJmhxRkA8",
        "colab_type": "code",
        "colab": {}
      },
      "source": [
        "#ARMAR ARBOL\n",
        "arbol = tree(Diabetes ~ Nembarazada + Glucosa + Presion + Triceps + Insulina + IMC + Pedigree +\n",
        "             Edad, data = train)"
      ],
      "execution_count": 38,
      "outputs": []
    },
    {
      "cell_type": "code",
      "metadata": {
        "id": "R3du3sU6R-ve",
        "colab_type": "code",
        "colab": {
          "base_uri": "https://localhost:8080/",
          "height": 187
        },
        "outputId": "52c9c2f1-39a5-4fe4-cadd-917da3825ee6"
      },
      "source": [
        "summary(arbol)"
      ],
      "execution_count": 39,
      "outputs": [
        {
          "output_type": "display_data",
          "data": {
            "text/plain": [
              "\n",
              "Classification tree:\n",
              "tree(formula = Diabetes ~ Nembarazada + Glucosa + Presion + Triceps + \n",
              "    Insulina + IMC + Pedigree + Edad, data = train)\n",
              "Variables actually used in tree construction:\n",
              "[1] \"Glucosa\"     \"Edad\"        \"IMC\"         \"Triceps\"     \"Nembarazada\"\n",
              "[6] \"Presion\"     \"Pedigree\"   \n",
              "Number of terminal nodes:  19 \n",
              "Residual mean deviance:  0.7274 = 376.8 / 518 \n",
              "Misclassification error rate: 0.1695 = 91 / 537 "
            ]
          },
          "metadata": {
            "tags": []
          }
        }
      ]
    },
    {
      "cell_type": "code",
      "metadata": {
        "id": "B_9_b3JkSN6D",
        "colab_type": "code",
        "colab": {
          "base_uri": "https://localhost:8080/",
          "height": 437
        },
        "outputId": "cb637396-d3a8-4846-9d25-7c1c700483c8"
      },
      "source": [
        "plot(arbol)\n",
        "text(arbol, pretty=1)"
      ],
      "execution_count": 40,
      "outputs": [
        {
          "output_type": "display_data",
          "data": {
            "image/png": "[encoded data removed]",
            "text/plain": [
              "plot without title"
            ]
          },
          "metadata": {
            "tags": [],
            "image/png": {
              "width": 420,
              "height": 420
            },
            "text/plain": {
              "width": 420,
              "height": 420
            }
          }
        }
      ]
    },
    {
      "cell_type": "markdown",
      "metadata": {
        "id": "tpGw8gGSzeJX",
        "colab_type": "text"
      },
      "source": [
        "**Parte 1:**\n",
        "\n",
        "El árbol obtenido tiene 7 niveles (sin contar la raíz) y 19 hojas. Es importante mencionar que el subárbol izquierdo tiene 4 niveles, por lo que se llega a un resultado en un número menor de comparaciones respecto al subárbol derecho. \n",
        "\n",
        "El error de clasificación en el training set es de 0.1695, menor al 17%. Cabe mencionar que, debido a la cantidad de particiones en el subárbol derecho, es probable que exista overfitting, para determinar con exactitud habría que evaluar distintos arboles utilizando test y train sets. (Preferiblemente con la misma cardinalidad de clases a predecir.) \n",
        "\n"
      ]
    },
    {
      "cell_type": "markdown",
      "metadata": {
        "id": "9D2_jmYXzgQE",
        "colab_type": "text"
      },
      "source": [
        "**Parte 2:**\n",
        "\n",
        "La variable que no genera particiones es **Insulina**, esta no participa debido a que, lo más probable, la bondad de la partición no es lo suficientemente alta para ser seleccionada por sobre las otras. Tenemos 4 niveles en el subárbol izquierdo y 7 niveles en el subárbol derecho. <br> \n",
        "\n",
        "En el subárbol izquierdo y derecho se alcanza la impureza mínima antes de poder particionar respecto a la **Insulina**, por lo tanto, se deja de particionar. \n",
        "\n"
      ]
    },
    {
      "cell_type": "markdown",
      "metadata": {
        "id": "Hn-wZDgrzgdt",
        "colab_type": "text"
      },
      "source": [
        "# Pregunta 2:"
      ]
    },
    {
      "cell_type": "code",
      "metadata": {
        "id": "Okb6jRra3dSG",
        "colab_type": "code",
        "colab": {}
      },
      "source": [
        "#ARMAR ARBOL\n",
        "arbol_2 = tree(Diabetes ~ Nembarazada + Presion + Triceps + Insulina + Pedigree +\n",
        "             Edad, data = train)"
      ],
      "execution_count": 41,
      "outputs": []
    },
    {
      "cell_type": "code",
      "metadata": {
        "id": "MDrT9JKK3er1",
        "colab_type": "code",
        "colab": {
          "base_uri": "https://localhost:8080/",
          "height": 170
        },
        "outputId": "9c9afef4-c860-458a-e874-c5bc3267ffdd"
      },
      "source": [
        "summary(arbol_2)"
      ],
      "execution_count": 42,
      "outputs": [
        {
          "output_type": "display_data",
          "data": {
            "text/plain": [
              "\n",
              "Classification tree:\n",
              "tree(formula = Diabetes ~ Nembarazada + Presion + Triceps + Insulina + \n",
              "    Pedigree + Edad, data = train)\n",
              "Variables actually used in tree construction:\n",
              "[1] \"Edad\"        \"Triceps\"     \"Nembarazada\" \"Pedigree\"    \"Insulina\"   \n",
              "Number of terminal nodes:  11 \n",
              "Residual mean deviance:  0.973 = 511.8 / 526 \n",
              "Misclassification error rate: 0.2626 = 141 / 537 "
            ]
          },
          "metadata": {
            "tags": []
          }
        }
      ]
    },
    {
      "cell_type": "code",
      "metadata": {
        "id": "8bijts8G3h3E",
        "colab_type": "code",
        "colab": {
          "base_uri": "https://localhost:8080/",
          "height": 437
        },
        "outputId": "b67c0ba4-ed9b-497a-97b0-f3b38e77fa3c"
      },
      "source": [
        "plot(arbol_2)\n",
        "text(arbol_2, pretty=1)"
      ],
      "execution_count": 43,
      "outputs": [
        {
          "output_type": "display_data",
          "data": {
            "image/png": "[encoded data removed]",
            "text/plain": [
              "plot without title"
            ]
          },
          "metadata": {
            "tags": [],
            "image/png": {
              "width": 420,
              "height": 420
            },
            "text/plain": {
              "width": 420,
              "height": 420
            }
          }
        }
      ]
    },
    {
      "cell_type": "markdown",
      "metadata": {
        "id": "PZh7WT4_zgia",
        "colab_type": "text"
      },
      "source": [
        "**Parte 1:**\n",
        "\n",
        "Comparando ambos arboles obtenidos: \n",
        "\n",
        "El árbol de la pregunta 2 tiene 4 niveles, de forma particular el subárbol izquierdo tiene 4, el subárbol derecho tiene 3 niveles y en total 11 hojas. En cambio, el árbol de la pregunta 1 tiene 7 niveles y 19 hojas. \n",
        "\n",
        "En la pregunta 1 tenemos una menor tasa de error que en la pregunta 2, esto puede deberse a no utilizar la variable Glucosa en la clasificación. (Es conocido que altas cantidades de Glucosa en la sangre está relacionada con Diabetes). \n",
        "\n",
        "Cabe mencionar que el árbol obtenido en la pregunta 2 al tener menos niveles (realizar menor particiones) debería ser capaz de generalizar de mejor forma, esto no ocurre en este caso debido a la cantidad de ejemplos de entramiento (son pocos), sumado a que la cardinalidad de la clase de predicción no es la misma. (500:No Diabete ,268: Diabete) \n",
        "\n",
        "Al no realizar la predicción sobre el árbol de la pregunta 1 no es posible concluir a cabalidad que árbol se comporta de mejor forma. (Precisión en el test set) \n",
        "\n",
        "Queda planteado como trabajo a futuro realizar una comparación a cabalidad, incluyendo técnicas de poda y otras que reduzcan el overfitting, para determinar un árbol de decisión apropiado. \n"
      ]
    },
    {
      "cell_type": "markdown",
      "metadata": {
        "id": "rc8SixyYzgkx",
        "colab_type": "text"
      },
      "source": [
        "**Parte 2:**\n",
        "\n",
        "Considerando el test set, la precisión del árbol es del *65%* aproximadamente (0.64935). "
      ]
    },
    {
      "cell_type": "code",
      "metadata": {
        "id": "MMyPyMEs6tmj",
        "colab_type": "code",
        "colab": {}
      },
      "source": [
        "# Predecimos Diabetes para los datos de pruebas\n",
        "pred <- predict(arbol_2,test,type='class')\n",
        "\n",
        "# Creamos la matriz de confusión\n",
        "conf_matrix <- with(test,table(pred,test$Diabetes))"
      ],
      "execution_count": 46,
      "outputs": []
    },
    {
      "cell_type": "code",
      "metadata": {
        "id": "_WfHTDni6-r2",
        "colab_type": "code",
        "colab": {
          "base_uri": "https://localhost:8080/",
          "height": 85
        },
        "outputId": "1c3a1fb9-a764-45a4-c1da-f5ca9888f0c7"
      },
      "source": [
        "#matriz de confusion \n",
        "conf_matrix"
      ],
      "execution_count": 47,
      "outputs": [
        {
          "output_type": "display_data",
          "data": {
            "text/plain": [
              "    \n",
              "pred   0   1\n",
              "   0 135  60\n",
              "   1  21  15"
            ]
          },
          "metadata": {
            "tags": []
          }
        }
      ]
    },
    {
      "cell_type": "code",
      "metadata": {
        "id": "3Agjront7Ddx",
        "colab_type": "code",
        "colab": {}
      },
      "source": [
        "acc <- sum(diag(conf_matrix))/nrow(test)"
      ],
      "execution_count": 54,
      "outputs": []
    },
    {
      "cell_type": "code",
      "metadata": {
        "id": "Cl3DLD257byG",
        "colab_type": "code",
        "colab": {
          "base_uri": "https://localhost:8080/",
          "height": 34
        },
        "outputId": "6b9f493a-56d8-42b9-fb47-e165d87ceff4"
      },
      "source": [
        "acc"
      ],
      "execution_count": 53,
      "outputs": [
        {
          "output_type": "display_data",
          "data": {
            "text/plain": [
              "[1] 0.6493506"
            ],
            "text/latex": "0.649350649350649",
            "text/markdown": "0.649350649350649",
            "text/html": [
              "0.649350649350649"
            ]
          },
          "metadata": {
            "tags": []
          }
        }
      ]
    },
    {
      "cell_type": "markdown",
      "metadata": {
        "id": "-YvwO5VizgnU",
        "colab_type": "text"
      },
      "source": [
        "**Parte 3:**\n",
        "\n",
        "El diagnostico asignado a (2,30,71,26,5.3, 27, 0.33, 40) se obtiene evaluando el árbol. \n",
        "\n",
        "La edad es mayor a 30.5, tomamos el subárbol derecho. <br> \n",
        "\n",
        "La insulina es menor a 126.5, tomamos el subárbol izquierdo.<br> \n",
        "\n",
        "La edad es menor a 62.5, llegamos a la hoja con valor 0.<br> \n",
        "\n",
        "El resultado es: *No Diabete* \n"
      ]
    }
  ]
}